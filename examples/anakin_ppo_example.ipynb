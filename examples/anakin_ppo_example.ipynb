{
 "cells": [
  {
   "cell_type": "markdown",
   "metadata": {},
   "source": [
    "# Distributed PPO Anakin Agent using `flashbax` and `Jumanji`\n",
    "### [![Colab](https://colab.research.google.com/assets/colab-badge.svg)](https://colab.research.google.com/github/instadeepai/flashbax/blob/main/examples/anakin_ppo_example.ipynb)\n",
    "\n",
    "Adapted from [Gymnax Example](https://colab.research.google.com/github/RobertTLange/gymnax/blob/main/examples/01_anakin.ipynb) and DeepMind's [Example Colab](https://colab.research.google.com/drive/1974D-qP17fd5mLxy6QZv-ic4yxlPJp-G?usp=sharing#scrollTo=lhnJkrYLOvcs)"
   ]
  },
  {
   "cell_type": "markdown",
   "metadata": {},
   "source": [
    "### Imports"
   ]
  },
  {
   "cell_type": "code",
   "execution_count": null,
   "metadata": {},
   "outputs": [],
   "source": [
    "!git clone https://github.com/instadeepai/flashbax.git\n",
    "!pip install ./flashbax[examples]"
   ]
  },
  {
   "cell_type": "code",
   "execution_count": 1,
   "metadata": {},
   "outputs": [],
   "source": [
    "import flashbax as fbx"
   ]
  },
  {
   "cell_type": "code",
   "execution_count": 2,
   "metadata": {},
   "outputs": [
    {
     "name": "stderr",
     "output_type": "stream",
     "text": [
      "2023-09-26 14:48:50.362260: W tensorflow/compiler/tf2tensorrt/utils/py_utils.cc:38] TF-TRT Warning: Could not find TensorRT\n",
      "WARNING: All log messages before absl::InitializeLog() is called are written to STDERR\n",
      "I0000 00:00:1695739731.729474 1499542 pjrt_api.cc:98] GetPjrtApi was found for tpu at /home/e.toledo/miniconda3/envs/flashbax/lib/python3.10/site-packages/libtpu/libtpu.so\n",
      "I0000 00:00:1695739731.729554 1499542 pjrt_api.cc:67] PJRT_Api is set for device type tpu\n",
      "I0000 00:00:1695739731.729557 1499542 pjrt_api.cc:72] PJRT plugin for tpu has PJRT API version 0.30. The framework PJRT API version is 0.30.\n",
      "I0000 00:00:1695739734.580817 1499542 tfrt_cpu_pjrt_client.cc:349] TfrtCpuClient created.\n"
     ]
    },
    {
     "name": "stdout",
     "output_type": "stream",
     "text": [
      "The following devices are available:  [TpuDevice(id=0, process_index=0, coords=(0,0,0), core_on_chip=0), TpuDevice(id=1, process_index=0, coords=(0,0,0), core_on_chip=1), TpuDevice(id=2, process_index=0, coords=(1,0,0), core_on_chip=0), TpuDevice(id=3, process_index=0, coords=(1,0,0), core_on_chip=1), TpuDevice(id=4, process_index=0, coords=(0,1,0), core_on_chip=0), TpuDevice(id=5, process_index=0, coords=(0,1,0), core_on_chip=1), TpuDevice(id=6, process_index=0, coords=(1,1,0), core_on_chip=0), TpuDevice(id=7, process_index=0, coords=(1,1,0), core_on_chip=1)]\n"
     ]
    }
   ],
   "source": [
    "from matplotlib import pyplot as plt\n",
    "import seaborn as sns\n",
    "import numpy as np\n",
    "import jax\n",
    "from jax import lax\n",
    "from jax import random\n",
    "from jax import numpy as jnp\n",
    "import jax.numpy as jnp\n",
    "import haiku as hk\n",
    "import optax\n",
    "import rlax\n",
    "import timeit\n",
    "import distrax\n",
    "import chex\n",
    "from jumanji.wrappers import AutoResetWrapper\n",
    "import jumanji\n",
    "\n",
    "print(\"The following devices are available: \", jax.devices())"
   ]
  },
  {
   "cell_type": "markdown",
   "metadata": {},
   "source": [
    "### Anakin PPO Distributed Agent Setup\n",
    "The following is a simple PPO implementation in the Anakin framework."
   ]
  },
  {
   "cell_type": "code",
   "execution_count": 3,
   "metadata": {},
   "outputs": [],
   "source": [
    "@chex.dataclass(frozen=True)\n",
    "class TimeStep:\n",
    "    observation: chex.Array\n",
    "    action: chex.Array\n",
    "    discount: chex.Array\n",
    "    reward: chex.Array\n",
    "    behaviour_action_log_prob: chex.Array\n",
    "    behaviour_value: chex.Array\n",
    "\n",
    "@chex.dataclass(frozen=True)\n",
    "class Params:\n",
    "    online : hk.Params\n",
    "    update_count : int\n",
    "\n",
    "def get_network_fn(num_outputs: int):\n",
    "    \n",
    "    def network_fn(obs: chex.Array) -> chex.Array:\n",
    "        x = hk.Sequential([\n",
    "            hk.Conv2D(32, kernel_shape=2, stride=1),\n",
    "            jax.nn.relu,\n",
    "            hk.Conv2D(32, kernel_shape=2, stride=1),\n",
    "            jax.nn.relu,\n",
    "            hk.Flatten(),\n",
    "            hk.Linear(256),\n",
    "            jax.nn.relu])(obs)\n",
    "\n",
    "        logits = hk.Sequential([\n",
    "            hk.Flatten(),\n",
    "            hk.Linear(128), \n",
    "            jax.nn.relu,\n",
    "            hk.Linear(num_outputs)])(x)\n",
    "        \n",
    "        value = hk.Sequential([\n",
    "            hk.Flatten(),\n",
    "            hk.Linear(128), \n",
    "            jax.nn.relu,\n",
    "            hk.Linear(1)])(x)\n",
    "\n",
    "        return logits, value\n",
    "    \n",
    "    return hk.without_apply_rng(hk.transform(network_fn))\n",
    "\n",
    "def get_learner_fn(\n",
    "    env, forward_pass, buffer_fn, opt_update, rollout_len, agent_discount, iterations, gae_lambda, clip_epsilon, sgd_epochs):\n",
    "    \"\"\"Returns a learner function that can be used to train the parameters of the agent.\"\"\"\n",
    "\n",
    "    def rollout(params, outer_rng, env_state, env_timestep):\n",
    "        \"\"\"Collects a single trajectory from the environment.\"\"\"\n",
    "\n",
    "        def step_fn(env_data, rng):\n",
    "            \"\"\"A single step of the environment.\"\"\"\n",
    "            env_state, env_timestep, params = env_data\n",
    "            obs_tm1 = env_timestep.observation.grid  \n",
    "            d_tm1 = env_timestep.discount  \n",
    "            a_logits_tm1, v_tm1 = forward_pass(params, jnp.expand_dims(obs_tm1, 0))  \n",
    "            a_tm1_dist = distrax.Categorical(a_logits_tm1[0])\n",
    "            a_tm1 = a_tm1_dist.sample(seed=rng) \n",
    "            a_tm1_log_prob = a_tm1_dist.log_prob(a_tm1)  \n",
    "            new_env_state, new_env_timestep = env.step(env_state, a_tm1)\n",
    "            r_t = new_env_timestep.reward \n",
    "          \n",
    "            return (new_env_state, new_env_timestep, params), TimeStep( \n",
    "              observation = obs_tm1, action=a_tm1, discount=d_tm1, reward=r_t, behaviour_action_log_prob=a_tm1_log_prob, behaviour_value=v_tm1.squeeze())\n",
    "              # We line up the observation with its discount, not the discount of the next observation as is usually seen.\n",
    "              # This is so that we know in a transition that discount[1] is the discount of the next observation. \n",
    "              # e.g. indexing is v[t] = reward[t] + discount[t+1]*value[t+1]\n",
    "              # Switching to Sutton and Barto's notation, we would have v[t] = reward[t+1] + discount[t+1]*value[t+1]\n",
    "              # To do this, we would add r_tm1 = env_timestep.reward to the TimeStep dataclass, not the new_env_timestep.reward\n",
    "\n",
    "        step_rngs = random.split(outer_rng, rollout_len)\n",
    "        (env_state, env_timestep, params), rollout = lax.scan(step_fn, (env_state, env_timestep, params), step_rngs)  \n",
    "\n",
    "        rollout = jax.tree_map(lambda x: jnp.expand_dims(x,0), rollout)\n",
    "        \n",
    "        return rollout, env_state, env_timestep\n",
    "    \n",
    "    def loss_fn(params : hk.Params, batch : TimeStep):\n",
    "        \"\"\"Computes the loss of the agent on a single trajectory.\"\"\"\n",
    "        \n",
    "        logits_t, v_t = forward_pass(params, batch.observation)  \n",
    "        a_log_prob_t = distrax.Categorical(logits_t).log_prob(batch.action.astype(jnp.int32)) \n",
    "        adv_t = rlax.truncated_generalized_advantage_estimation(batch.reward[:-1], batch.discount[1:] * agent_discount, gae_lambda, batch.behaviour_value, True) \n",
    "        rhos = jnp.exp(a_log_prob_t[:-1] - batch.behaviour_action_log_prob[:-1])\n",
    "        pg_loss = rlax.clipped_surrogate_pg_loss(rhos, adv_t, clip_epsilon)\n",
    "        entropy_loss = distrax.Categorical(logits_t).entropy()[:-1]\n",
    "        target_values = batch.behaviour_value[:-1] + adv_t  \n",
    "        value_loss = jnp.square(v_t[:-1] - target_values)\n",
    "        loss = pg_loss + value_loss - 0.001*entropy_loss \n",
    "        loss = jnp.mean(loss)\n",
    "\n",
    "        return loss\n",
    "\n",
    "    def update_fn(params_state : Params, buffer_state, opt_state, rng, env_state, env_timestep):\n",
    "        \"\"\"Performs a rollout and updates the parameters of the agent.\"\"\"\n",
    "\n",
    "        rng, rollout_rng = random.split(rng)\n",
    "        \n",
    "        data_rollout, new_env_state, new_env_timestep = rollout(params_state.online, rollout_rng, env_state, env_timestep)  # collect trajectory.\n",
    "        # The use of a queue here is not necessary since we push data in and immediately pop it out, but it is an example of how one could use it.\n",
    "        # Note: we do not check can_add and can_sample here, but we could use jax.lax.cond to do so.\n",
    "        # Branching slows down training and since we know for a fact that we can add and sample, we do not need to check.\n",
    "        buffer_state = buffer_fn.add(buffer_state, data_rollout)  \n",
    "        buffer_state, batch = buffer_fn.sample(buffer_state)  \n",
    "        # We get rid of the batch dimension here\n",
    "        batch = jax.tree_map(lambda x: jnp.squeeze(x, 0), batch.experience)  \n",
    "        \n",
    "        def epoch_update(carry, _):\n",
    "            \"\"\"Updates the parameters of the agent.\"\"\"\n",
    "\n",
    "            params, opt_state, batch = carry\n",
    "            grads = jax.grad(  # compute gradient on a single trajectory.\n",
    "                loss_fn)(params, batch)\n",
    "            grads = lax.pmean(grads, axis_name='j')  # reduce mean across cores.\n",
    "            grads = lax.pmean(grads, axis_name='i')  # reduce mean across batch.\n",
    "            updates, new_opt_state = opt_update(grads, opt_state)  # transform grads.\n",
    "            new_params = optax.apply_updates(params, updates)  # update parameters.\n",
    "            return (new_params, new_opt_state, batch), None\n",
    "        \n",
    "        (new_params, new_opt_state, batch), _ = jax.lax.scan(epoch_update, (params_state.online, opt_state, batch), None, length=sgd_epochs)\n",
    "        \n",
    "        new_params_state = Params(online=new_params, update_count=params_state.update_count+1)\n",
    "    \n",
    "        return new_params_state, buffer_state, new_opt_state, rng, new_env_state, new_env_timestep\n",
    "\n",
    "    def learner_fn(params_state : Params, buffer_state, opt_state, rngs, env_states, env_timesteps):\n",
    "        \"\"\"Performs multiple updates of the agent.\"\"\"\n",
    "\n",
    "        batched_update_fn = jax.vmap(update_fn, axis_name='j')  # vectorize across batch.\n",
    "    \n",
    "        def iterate_fn(_, val):  # repeat many times to avoid going back to Python.\n",
    "            params_state, buffer_state, opt_state, rngs, env_states, env_timesteps = val\n",
    "            return batched_update_fn(params_state, buffer_state, opt_state, rngs, env_states, env_timesteps)\n",
    "        \n",
    "        return lax.fori_loop(0, iterations, iterate_fn, (\n",
    "            params_state, buffer_state, opt_state, rngs, env_states, env_timesteps))\n",
    "    \n",
    "       \n",
    "    return learner_fn"
   ]
  },
  {
   "cell_type": "markdown",
   "metadata": {},
   "source": [
    "### Create Experiment Fns"
   ]
  },
  {
   "cell_type": "code",
   "execution_count": 4,
   "metadata": {},
   "outputs": [],
   "source": [
    "def set_up_experiment(env, rollout_len, step_size, seed, buffer_size):\n",
    "    \"\"\"Sets up the experiment and returns the necessary information.\"\"\"\n",
    "\n",
    "    cores_count = len(jax.devices())  # get available TPU cores.\n",
    "    network = get_network_fn(env.action_spec().num_values)  # define network.\n",
    "    optim = optax.adam(step_size)  # define optimiser.\n",
    "\n",
    "    rng, rng_e, rng_p = random.split(random.PRNGKey(seed), num=3)  # prng keys.\n",
    "    _, timestep = env.reset(rng_e)\n",
    "    obs = timestep.observation.grid \n",
    "    dummy_obs = jnp.expand_dims(obs , 0) # dummy for net init.\n",
    "    params = network.init(rng_p, dummy_obs)  # initialise params.\n",
    "    opt_state = optim.init(params)  # initialise optimiser stats.\n",
    "    buffer_fn = fbx.make_trajectory_queue(\n",
    "        max_length_time_axis=buffer_size,\n",
    "        add_batch_size=1,\n",
    "        add_sequence_length=rollout_len,\n",
    "        sample_sequence_length=rollout_len\n",
    "    )\n",
    "    dummy_transition = TimeStep(observation=obs,\n",
    "                                action=jnp.zeros((), dtype=jnp.int32),\n",
    "                                reward=timestep.reward,\n",
    "                                discount=timestep.discount,\n",
    "                                behaviour_action_log_prob=jnp.zeros(()),\n",
    "                                behaviour_value=jnp.zeros(()),\n",
    "                                )\n",
    "    buffer_state = buffer_fn.init(dummy_transition) # initialise buffer.\n",
    "    return cores_count, network, optim, params, opt_state, buffer_fn, buffer_state, rng\n",
    "\n",
    "\n",
    "def get_rng_keys(cores_count, num_envs, rng):\n",
    "    \"\"\"Returns a list of rng keys for each environment.\"\"\"\n",
    "    rng, *step_rngs = jax.random.split(rng, cores_count * num_envs + 1)\n",
    "    reshape = lambda x: x.reshape((cores_count, num_envs) + x.shape[1:])\n",
    "    step_rngs = reshape(jnp.stack(step_rngs))  # add dimension to pmap over.\n",
    "    return rng, step_rngs\n",
    "\n",
    "def broadcast_to_device_shape(cores_count, num_envs, params, opt_state, buffer_state, rng):\n",
    "    \"\"\"Broadcasts the parameters to the shape of the device.\"\"\"\n",
    "    broadcast = lambda x: jnp.broadcast_to(x, (cores_count, num_envs) + x.shape)\n",
    "    params = jax.tree_map(broadcast, params)  # broadcast to cores and batch.\n",
    "    opt_state = jax.tree_map(broadcast, opt_state)  # broadcast to cores and batch\n",
    "    buffer_state = jax.tree_map(broadcast, buffer_state)  # broadcast to cores and batch\n",
    "    params_state = Params(online=params, update_count=jnp.zeros(shape=(cores_count, num_envs)))\n",
    "    rng, step_rngs = get_rng_keys(cores_count, num_envs, rng)\n",
    "    return params_state, opt_state, buffer_state, step_rngs, rng"
   ]
  },
  {
   "cell_type": "markdown",
   "metadata": {},
   "source": [
    "### Create Environment"
   ]
  },
  {
   "cell_type": "code",
   "execution_count": 5,
   "metadata": {},
   "outputs": [],
   "source": [
    "env = jumanji.make(\"Snake-v1\", num_rows=6, num_cols=6)\n",
    "training_env = AutoResetWrapper(env)"
   ]
  },
  {
   "cell_type": "markdown",
   "metadata": {},
   "source": [
    "### Define Hyperparameters"
   ]
  },
  {
   "cell_type": "code",
   "execution_count": 6,
   "metadata": {},
   "outputs": [],
   "source": [
    "# Number of Training-Evaluation iterations\n",
    "TRAINING_EVAL_ITERS = 20\n",
    "\n",
    "# Training parameters\n",
    "LEARNING_RATE = 3e-4\n",
    "SEED = 42\n",
    "NUM_ENVS = 8\n",
    "ROLLOUT_LEN = 64\n",
    "BUFFER_SIZE = ROLLOUT_LEN\n",
    "TRAINING_ITERS = 10\n",
    "AGENT_DISCOUNT = 0.99\n",
    "GAE_LAMBDA = 0.95\n",
    "CLIP_EPSILON = 0.2\n",
    "SGD_EPOCHS = 10\n",
    "\n",
    "# Evaluation parameters\n",
    "NUM_EVAL_EPISODES = 50"
   ]
  },
  {
   "cell_type": "markdown",
   "metadata": {},
   "source": [
    "### Set Up Eval Fns"
   ]
  },
  {
   "cell_type": "code",
   "execution_count": 7,
   "metadata": {},
   "outputs": [],
   "source": [
    "\n",
    "cores_count, network, optim, params, opt_state, buffer_fn, buffer_state, rng = set_up_experiment(\n",
    "    env=training_env, \n",
    "    rollout_len=ROLLOUT_LEN, \n",
    "    step_size=LEARNING_RATE, \n",
    "    seed=SEED, \n",
    "    buffer_size=BUFFER_SIZE,)\n",
    "\n",
    "\n",
    "@jax.jit\n",
    "def eval_one_episode(params, rng):\n",
    "    \"\"\"Evaluates the agent on a single episode.\"\"\"\n",
    "    \n",
    "    state, timestep = env.reset(rng)\n",
    "    \n",
    "    def step(val):\n",
    "        params, state, timestep, tot_r, rng, done = val\n",
    "        rng, key_step = jax.random.split(rng)\n",
    "        obs = timestep.observation.grid\n",
    "        a_logits_t, v_t = network.apply(params, obs[jnp.newaxis,])\n",
    "        a_t = distrax.Categorical(a_logits_t).sample(seed=rng)[0]\n",
    "        state, timestep = env.step(state, a_t)\n",
    "        tot_r += timestep.reward\n",
    "        return (params, state, timestep, tot_r, rng, timestep.last())\n",
    "       \n",
    "    params, state, timestep, tot_r, rng, done = jax.lax.while_loop(lambda val : val[5] == False, step, (params, state, timestep, 0, rng, False))\n",
    "\n",
    "    return params, tot_r\n",
    "\n",
    "@jax.jit\n",
    "def eval(params, rng):\n",
    "    \"\"\"Evaluates the agent on multiple episodes.\"\"\"\n",
    "\n",
    "    rngs = random.split(rng, NUM_EVAL_EPISODES)\n",
    "    params = jax.tree_map(lambda x: x[0][0], params)\n",
    "    _, tot_r = jax.lax.scan(eval_one_episode, params, rngs)\n",
    "    return tot_r.mean()"
   ]
  },
  {
   "cell_type": "markdown",
   "metadata": {},
   "source": [
    "### Training the agent"
   ]
  },
  {
   "cell_type": "code",
   "execution_count": 8,
   "metadata": {},
   "outputs": [
    {
     "name": "stdout",
     "output_type": "stream",
     "text": [
      "Average Reward at iteration 2: 2.2799999713897705\n",
      "Average Reward at iteration 4: 5.839999675750732\n",
      "Average Reward at iteration 6: 10.579999923706055\n",
      "Average Reward at iteration 8: 14.239999771118164\n",
      "Average Reward at iteration 10: 15.319999694824219\n",
      "Average Reward at iteration 12: 16.53999900817871\n",
      "Average Reward at iteration 14: 16.920000076293945\n",
      "Average Reward at iteration 16: 18.239999771118164\n",
      "Average Reward at iteration 18: 17.19999885559082\n",
      "Average Reward at iteration 20: 16.8799991607666\n"
     ]
    }
   ],
   "source": [
    "rng, *env_rngs = jax.random.split(rng, cores_count * NUM_ENVS + 1)\n",
    "env_states, env_timesteps = jax.vmap(env.reset)(jnp.stack(env_rngs))  # init envs.\n",
    "reshape = lambda x: x.reshape((cores_count, NUM_ENVS) + x.shape[1:])\n",
    "env_states = jax.tree_map(reshape, env_states)  # add dimension to pmap over.\n",
    "env_timesteps = jax.tree_map(reshape, env_timesteps)  # add dimension to pmap over.\n",
    "params_state, opt_state, buffer_state, step_rngs, rng = broadcast_to_device_shape(cores_count, NUM_ENVS, params, opt_state, buffer_state, rng)\n",
    "\n",
    "\n",
    "learn = get_learner_fn(env=training_env, forward_pass=network.apply, buffer_fn=buffer_fn, opt_update=optim.update, rollout_len=ROLLOUT_LEN, agent_discount=AGENT_DISCOUNT, iterations=TRAINING_ITERS, gae_lambda=GAE_LAMBDA, clip_epsilon=CLIP_EPSILON, sgd_epochs=SGD_EPOCHS)\n",
    "learn = jax.pmap(learn, axis_name='i')  # replicate over multiple cores.\n",
    "\n",
    "avg_reward = []\n",
    "total_time = 0\n",
    "for training_eval_iters in range(1, TRAINING_EVAL_ITERS+1):\n",
    "    # Train\n",
    "    start = timeit.default_timer()\n",
    "    params_state, buffer_state, opt_state, step_rngs, env_states, env_timesteps = learn(params_state, buffer_state, opt_state, step_rngs, env_states, env_timesteps)\n",
    "    params_state = jax.tree_map(lambda x: x.block_until_ready(), params_state) # wait for params to be ready so time is accurate.\n",
    "    total_time += timeit.default_timer() - start\n",
    "    # Eval\n",
    "    rng, eval_rng = jax.random.split(rng, num=2)\n",
    "    tot_r = eval(params_state.online, eval_rng)\n",
    "    avg_reward.append(tot_r)\n",
    "    if training_eval_iters % 2 == 0:\n",
    "        print(f\"Average Reward at iteration {training_eval_iters}: {tot_r}\")"
   ]
  },
  {
   "cell_type": "markdown",
   "metadata": {},
   "source": [
    "### Plotting the reward"
   ]
  },
  {
   "cell_type": "code",
   "execution_count": 9,
   "metadata": {},
   "outputs": [
    {
     "name": "stderr",
     "output_type": "stream",
     "text": [
      "/home/e.toledo/miniconda3/envs/flashbax/lib/python3.10/site-packages/seaborn/_oldcore.py:1498: FutureWarning: is_categorical_dtype is deprecated and will be removed in a future version. Use isinstance(dtype, CategoricalDtype) instead\n",
      "  if pd.api.types.is_categorical_dtype(vector):\n",
      "/home/e.toledo/miniconda3/envs/flashbax/lib/python3.10/site-packages/seaborn/_oldcore.py:1498: FutureWarning: is_categorical_dtype is deprecated and will be removed in a future version. Use isinstance(dtype, CategoricalDtype) instead\n",
      "  if pd.api.types.is_categorical_dtype(vector):\n",
      "/home/e.toledo/miniconda3/envs/flashbax/lib/python3.10/site-packages/seaborn/_oldcore.py:1119: FutureWarning: use_inf_as_na option is deprecated and will be removed in a future version. Convert inf values to NaN before operating instead.\n",
      "  with pd.option_context('mode.use_inf_as_na', True):\n",
      "/home/e.toledo/miniconda3/envs/flashbax/lib/python3.10/site-packages/seaborn/_oldcore.py:1119: FutureWarning: use_inf_as_na option is deprecated and will be removed in a future version. Convert inf values to NaN before operating instead.\n",
      "  with pd.option_context('mode.use_inf_as_na', True):\n"
     ]
    },
    {
     "data": {
      "image/png": "[encoded data removed]",
      "text/plain": [
       "<Figure size 640x480 with 1 Axes>"
      ]
     },
     "metadata": {},
     "output_type": "display_data"
    }
   ],
   "source": [
    "%matplotlib inline\n",
    "sns.set(style=\"whitegrid\")\n",
    "\n",
    "num_env_transitions = ROLLOUT_LEN*TRAINING_ITERS*TRAINING_EVAL_ITERS\n",
    "x_values = np.asarray(jnp.arange(0, num_env_transitions, num_env_transitions/len(avg_reward)))\n",
    "avg_reward = np.asarray(avg_reward)\n",
    "\n",
    "sns.lineplot(x=x_values, y=avg_reward)\n",
    "plt.xlabel('Environment Transitions')\n",
    "plt.ylabel('Average Reward')\n",
    "plt.title(f'PPO on Snake-v1 - training time: {np.round((total_time)/60, 2)} minutes')\n",
    "\n",
    "plt.tight_layout()\n",
    "plt.show()"
   ]
  }
 ],
 "metadata": {
  "kernelspec": {
   "display_name": "v_flash",
   "language": "python",
   "name": "python3"
  },
  "language_info": {
   "codemirror_mode": {
    "name": "ipython",
    "version": 3
   },
   "file_extension": ".py",
   "mimetype": "text/x-python",
   "name": "python",
   "nbconvert_exporter": "python",
   "pygments_lexer": "ipython3",
   "version": "3.9.16"
  }
 },
 "nbformat": 4,
 "nbformat_minor": 4
}
