{
  "nbformat": 4,
  "nbformat_minor": 0,
  "metadata": {
    "colab": {
      "provenance": []
    },
    "kernelspec": {
      "name": "python3",
      "display_name": "Python 3"
    },
    "language_info": {
      "name": "python"
    }
  },
  "cells": [
    {
      "cell_type": "code",
      "execution_count": 9,
      "metadata": {
        "id": "MTwRVTaDsy_S"
      },
      "outputs": [],
      "source": [
        "%%capture\n",
        "! pip install flashbax"
      ]
    },
    {
      "cell_type": "code",
      "source": [
        "import flashbax as fbx\n",
        "import jax\n",
        "import jax.numpy as jnp"
      ],
      "metadata": {
        "id": "HKzffK9bs5kz"
      },
      "execution_count": 25,
      "outputs": []
    },
    {
      "cell_type": "markdown",
      "source": [
        "Let's create the buffer function, and create a train loop. Note that the buffer state is created inside the loop."
      ],
      "metadata": {
        "id": "_II57Bq8s9ZE"
      }
    },
    {
      "cell_type": "code",
      "source": [
        "buffer = fbx.make_flat_buffer(\n",
        "    max_length=100_000,\n",
        "    min_length=1,\n",
        "    sample_batch_size=1,\n",
        ")\n",
        "\n",
        "def train_loop(buffer_fn):\n",
        "    timestep = {\n",
        "        \"obs\": jnp.zeros(shape=(10, 20, 30), dtype=jnp.float32),\n",
        "    }\n",
        "    buffer_state = buffer_fn.init(timestep)\n",
        "    buffer_add = buffer.add\n",
        "\n",
        "    buffer_state = jax.lax.fori_loop(\n",
        "        lower=0,\n",
        "        upper=50_000, # Add 50_000 elements\n",
        "        body_fun=lambda x, y: buffer_add(y, jax.tree_map(lambda z: jnp.ones_like(z) * x, timestep)),\n",
        "        init_val=buffer_state,\n",
        "    )\n",
        "    return buffer_state"
      ],
      "metadata": {
        "colab": {
          "base_uri": "https://localhost:8080/"
        },
        "id": "oCnCBUgNtAFt",
        "outputId": "cfe68c72-f020-40a8-e881-b26cdad99fae"
      },
      "execution_count": 26,
      "outputs": [
        {
          "output_type": "stream",
          "name": "stderr",
          "text": [
            "/usr/local/lib/python3.10/dist-packages/flashbax/buffers/trajectory_buffer.py:473: UserWarning: Setting max_size dynamically sets the `max_length_time_axis` to be `max_size`//`add_batch_size = 100000`.This allows one to control exactly how many timesteps are stored in the buffer.Note that this overrides the `max_length_time_axis` argument.\n",
            "  warnings.warn(\n"
          ]
        }
      ]
    },
    {
      "cell_type": "markdown",
      "source": [
        "Before anything else, let's check our function works."
      ],
      "metadata": {
        "id": "9aDQHcfetO5w"
      }
    },
    {
      "cell_type": "code",
      "source": [
        "buffer_state_test = train_loop(buffer_fn=buffer)\n",
        "\n",
        "# If all goes well, the 1234th timestep will contain the values \"1234\"\n",
        "import chex\n",
        "chex.assert_trees_all_equal(\n",
        "    buffer_state_test.experience['obs'][0, 1234, ...],\n",
        "    jnp.ones(shape=(10, 20, 30), dtype=jnp.float32) * 1234,\n",
        ")"
      ],
      "metadata": {
        "id": "7g2-nfqetLmG"
      },
      "execution_count": 27,
      "outputs": []
    },
    {
      "cell_type": "markdown",
      "source": [
        "We don't want to run out of RAM, so we'll manually delete our buffer state each time."
      ],
      "metadata": {
        "id": "n0mJekjCuF5I"
      }
    },
    {
      "cell_type": "code",
      "source": [
        "del buffer_state_test"
      ],
      "metadata": {
        "id": "YTVR4mJquJIo"
      },
      "execution_count": 28,
      "outputs": []
    },
    {
      "cell_type": "markdown",
      "source": [
        "Install memory profiler"
      ],
      "metadata": {
        "id": "UTLentRMuM41"
      }
    },
    {
      "cell_type": "code",
      "source": [
        "%%capture\n",
        "!pip install memory-profiler\n",
        "%load_ext memory_profiler"
      ],
      "metadata": {
        "id": "L2ZCCmyvuJrk"
      },
      "execution_count": 29,
      "outputs": []
    },
    {
      "cell_type": "code",
      "source": [
        "# Memory strain of vanilla train function, without jitting\n",
        "%memit buffer_state_A = train_loop(buffer_fn=buffer)"
      ],
      "metadata": {
        "colab": {
          "base_uri": "https://localhost:8080/"
        },
        "id": "rT_3F4OFuQF0",
        "outputId": "19f1a0fa-742d-4c09-81df-a555182c6a8f"
      },
      "execution_count": 30,
      "outputs": [
        {
          "output_type": "stream",
          "name": "stdout",
          "text": [
            "peak memory: 5052.51 MiB, increment: 4578.70 MiB\n"
          ]
        }
      ]
    },
    {
      "cell_type": "code",
      "source": [
        "del buffer_state_A"
      ],
      "metadata": {
        "id": "a_awyAh8uaNF"
      },
      "execution_count": 31,
      "outputs": []
    },
    {
      "cell_type": "code",
      "source": [
        "# Memory strain of jitted train function -- jitted OUTSIDE\n",
        "%memit buffer_state_B = jax.jit(train_loop, static_argnums=0)(buffer_fn=buffer)"
      ],
      "metadata": {
        "colab": {
          "base_uri": "https://localhost:8080/"
        },
        "id": "PrHtml6Aucin",
        "outputId": "92ad9e0f-c615-41a3-a582-79a396eca957"
      },
      "execution_count": 32,
      "outputs": [
        {
          "output_type": "stream",
          "name": "stdout",
          "text": [
            "peak memory: 2765.12 MiB, increment: 2290.14 MiB\n"
          ]
        }
      ]
    },
    {
      "cell_type": "code",
      "source": [
        "del buffer_state_B"
      ],
      "metadata": {
        "id": "gx3YhCQeuiPk"
      },
      "execution_count": 33,
      "outputs": []
    },
    {
      "cell_type": "code",
      "source": [
        "def train_loop_with_donate(buffer_fn):\n",
        "    timestep = {\n",
        "        \"obs\": jnp.zeros(shape=(10, 20, 30), dtype=jnp.float32),\n",
        "    }\n",
        "    buffer_state = buffer_fn.init(timestep)\n",
        "\n",
        "    # ------------------\n",
        "    # Note the change:\n",
        "    buffer_add = jax.jit(buffer.add, donate_argnums=0)\n",
        "    # ------------------\n",
        "\n",
        "    buffer_state = jax.lax.fori_loop(\n",
        "        lower=0,\n",
        "        upper=50_000, # Add 50_000 elements\n",
        "        body_fun=lambda x, y: buffer_add(\n",
        "            y, jax.tree_map(lambda z: jnp.ones_like(z) * x, timestep)\n",
        "          ),\n",
        "        init_val=buffer_state,\n",
        "    )\n",
        "    return buffer_state"
      ],
      "metadata": {
        "id": "rOANeZFkumwl"
      },
      "execution_count": 35,
      "outputs": []
    },
    {
      "cell_type": "code",
      "source": [
        "# Memory strain of train function, jitted inside + donate, but not jitted outside\n",
        "%memit buffer_state_C = train_loop_with_donate(buffer_fn=buffer)"
      ],
      "metadata": {
        "colab": {
          "base_uri": "https://localhost:8080/"
        },
        "id": "GUW8JPIgu47J",
        "outputId": "7fed239e-ca99-4bd1-bf3d-ad47805a54b6"
      },
      "execution_count": 36,
      "outputs": [
        {
          "output_type": "stream",
          "name": "stdout",
          "text": [
            "peak memory: 5054.29 MiB, increment: 4577.61 MiB\n"
          ]
        }
      ]
    },
    {
      "cell_type": "code",
      "source": [
        "del buffer_state_C"
      ],
      "metadata": {
        "id": "3xW2WmHLvGmq"
      },
      "execution_count": 37,
      "outputs": []
    },
    {
      "cell_type": "code",
      "source": [
        "%memit buffer_state_D = jax.jit(train_loop_with_donate, static_argnums=0)(buffer_fn=buffer)"
      ],
      "metadata": {
        "colab": {
          "base_uri": "https://localhost:8080/"
        },
        "id": "pxPSsHirvDC5",
        "outputId": "97eb32e8-759d-4573-8671-410f34d43dd4"
      },
      "execution_count": 38,
      "outputs": [
        {
          "output_type": "stream",
          "name": "stdout",
          "text": [
            "peak memory: 2766.87 MiB, increment: 2290.04 MiB\n"
          ]
        }
      ]
    },
    {
      "cell_type": "code",
      "source": [
        "del buffer_state_D"
      ],
      "metadata": {
        "id": "5ahO0Z1GvKBH"
      },
      "execution_count": 39,
      "outputs": []
    },
    {
      "cell_type": "code",
      "source": [],
      "metadata": {
        "id": "cC-oNfM4xMSz"
      },
      "execution_count": null,
      "outputs": []
    }
  ]
}
